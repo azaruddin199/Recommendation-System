{
 "cells": [
  {
   "cell_type": "markdown",
   "id": "96dd39b2",
   "metadata": {},
   "source": [
    "# Recommendation system"
   ]
  },
  {
   "cell_type": "markdown",
   "id": "134a3456",
   "metadata": {},
   "source": [
    "# Data Preprocessing"
   ]
  },
  {
   "cell_type": "markdown",
   "id": "9c59b00b",
   "metadata": {},
   "source": [
    " Load the Dataset"
   ]
  },
  {
   "cell_type": "code",
   "execution_count": 1,
   "id": "aec06be4",
   "metadata": {
    "scrolled": true
   },
   "outputs": [
    {
     "name": "stdout",
     "output_type": "stream",
     "text": [
      "   anime_id                              name  \\\n",
      "0     32281                    Kimi no Na wa.   \n",
      "1      5114  Fullmetal Alchemist: Brotherhood   \n",
      "2     28977                          Gintama°   \n",
      "3      9253                       Steins;Gate   \n",
      "4      9969                     Gintama&#039;   \n",
      "\n",
      "                                               genre   type episodes  rating  \\\n",
      "0               Drama, Romance, School, Supernatural  Movie        1    9.37   \n",
      "1  Action, Adventure, Drama, Fantasy, Magic, Mili...     TV       64    9.26   \n",
      "2  Action, Comedy, Historical, Parody, Samurai, S...     TV       51    9.25   \n",
      "3                                   Sci-Fi, Thriller     TV       24    9.17   \n",
      "4  Action, Comedy, Historical, Parody, Samurai, S...     TV       51    9.16   \n",
      "\n",
      "   members  \n",
      "0   200630  \n",
      "1   793665  \n",
      "2   114262  \n",
      "3   673572  \n",
      "4   151266  \n"
     ]
    }
   ],
   "source": [
    "import pandas as pd\n",
    "df = pd.read_csv(r\"C:\\Users\\G.S.AZARUDDIN\\Downloads\\anime.csv\") \n",
    "print(df.head())\n"
   ]
  },
  {
   "cell_type": "markdown",
   "id": "706c9654",
   "metadata": {},
   "source": [
    "Handle Missing Values"
   ]
  },
  {
   "cell_type": "code",
   "execution_count": 3,
   "id": "9c65bcc2",
   "metadata": {},
   "outputs": [
    {
     "name": "stdout",
     "output_type": "stream",
     "text": [
      "anime_id      0\n",
      "name          0\n",
      "genre        62\n",
      "type         25\n",
      "episodes      0\n",
      "rating      230\n",
      "members       0\n",
      "dtype: int64\n"
     ]
    }
   ],
   "source": [
    "print(df.isnull().sum())\n",
    "df = df.dropna(subset=['type', 'genre', 'rating'])\n"
   ]
  },
  {
   "cell_type": "markdown",
   "id": "e9263520",
   "metadata": {},
   "source": [
    "Explore the Dataset"
   ]
  },
  {
   "cell_type": "code",
   "execution_count": 15,
   "id": "73a8bb5e",
   "metadata": {
    "scrolled": true
   },
   "outputs": [
    {
     "name": "stdout",
     "output_type": "stream",
     "text": [
      "<class 'pandas.core.frame.DataFrame'>\n",
      "RangeIndex: 6 entries, 0 to 5\n",
      "Data columns (total 47 columns):\n",
      " #   Column         Non-Null Count  Dtype  \n",
      "---  ------         --------------  -----  \n",
      " 0   type           6 non-null      int8   \n",
      " 1   anime_id       6 non-null      int64  \n",
      " 2   rating         6 non-null      float64\n",
      " 3   members        6 non-null      int64  \n",
      " 4   Action         6 non-null      float64\n",
      " 5   Adventure      6 non-null      float64\n",
      " 6   Cars           6 non-null      float64\n",
      " 7   Comedy         6 non-null      float64\n",
      " 8   Dementia       6 non-null      float64\n",
      " 9   Demons         6 non-null      float64\n",
      " 10  Drama          6 non-null      float64\n",
      " 11  Ecchi          6 non-null      float64\n",
      " 12  Fantasy        6 non-null      float64\n",
      " 13  Game           6 non-null      float64\n",
      " 14  Harem          6 non-null      float64\n",
      " 15  Hentai         6 non-null      float64\n",
      " 16  Historical     6 non-null      float64\n",
      " 17  Horror         6 non-null      float64\n",
      " 18  Josei          6 non-null      float64\n",
      " 19  Kids           6 non-null      float64\n",
      " 20  Magic          6 non-null      float64\n",
      " 21  Martial Arts   6 non-null      float64\n",
      " 22  Mecha          6 non-null      float64\n",
      " 23  Military       6 non-null      float64\n",
      " 24  Music          6 non-null      float64\n",
      " 25  Mystery        6 non-null      float64\n",
      " 26  Parody         6 non-null      float64\n",
      " 27  Police         6 non-null      float64\n",
      " 28  Psychological  6 non-null      float64\n",
      " 29  Romance        6 non-null      float64\n",
      " 30  Samurai        6 non-null      float64\n",
      " 31  School         6 non-null      float64\n",
      " 32  Sci-Fi         6 non-null      float64\n",
      " 33  Seinen         6 non-null      float64\n",
      " 34  Shoujo         6 non-null      float64\n",
      " 35  Shoujo Ai      6 non-null      float64\n",
      " 36  Shounen        6 non-null      float64\n",
      " 37  Shounen Ai     6 non-null      float64\n",
      " 38  Slice of Life  6 non-null      float64\n",
      " 39  Space          6 non-null      float64\n",
      " 40  Sports         6 non-null      float64\n",
      " 41  Super Power    6 non-null      float64\n",
      " 42  Supernatural   6 non-null      float64\n",
      " 43  Thriller       6 non-null      float64\n",
      " 44  Vampire        6 non-null      float64\n",
      " 45  Yaoi           6 non-null      float64\n",
      " 46  Yuri           6 non-null      float64\n",
      "dtypes: float64(44), int64(2), int8(1)\n",
      "memory usage: 2.3 KB\n",
      "None\n",
      "           type      anime_id    rating       members       Action  \\\n",
      "count  6.000000  6.000000e+00  6.000000  6.000000e+00     6.000000   \n",
      "mean   2.500000  2.432964e+08  0.371610  8.145692e+08  1996.166667   \n",
      "std    1.870829  1.703956e+08  0.369984  1.492238e+09  1791.988997   \n",
      "min    0.000000  4.170548e+07  0.000000  3.926151e+06    59.000000   \n",
      "25%    1.250000  1.278468e+08  0.089709  6.749416e+07   617.250000   \n",
      "50%    2.500000  2.603062e+08  0.339446  2.702494e+08  1901.000000   \n",
      "75%    3.750000  2.859163e+08  0.493088  4.467855e+08  2758.750000   \n",
      "max    5.000000  5.193136e+08  1.000000  3.837450e+09  4882.000000   \n",
      "\n",
      "         Adventure        Cars       Comedy    Dementia      Demons  ...  \\\n",
      "count     6.000000    6.000000     6.000000    6.000000    6.000000  ...   \n",
      "mean   1593.666667   40.166667  2666.666667   76.333333  236.666667  ...   \n",
      "std    1481.764579   44.070020  2376.001992   89.954803  238.244132  ...   \n",
      "min      41.000000    2.000000    58.000000   23.000000    3.000000  ...   \n",
      "25%     384.250000   13.000000  1116.750000   27.500000   53.250000  ...   \n",
      "50%    1510.500000   27.500000  2626.500000   40.000000  168.000000  ...   \n",
      "75%    2308.250000   47.250000  3110.250000   66.750000  420.750000  ...   \n",
      "max    3917.000000  122.000000  6804.000000  256.000000  561.000000  ...   \n",
      "\n",
      "       Shounen Ai  Slice of Life       Space      Sports  Super Power  \\\n",
      "count    6.000000       6.000000    6.000000    6.000000     6.000000   \n",
      "mean    43.166667     643.333333  298.666667  287.833333   360.166667   \n",
      "std     47.245811     660.289532  246.024118  291.692589   326.055466   \n",
      "min      0.000000      66.000000   22.000000    7.000000    17.000000   \n",
      "25%      8.000000     277.500000   86.500000   75.750000    96.500000   \n",
      "50%     25.000000     507.500000  312.500000  263.500000   375.000000   \n",
      "75%     82.500000     622.750000  460.500000  346.250000   472.000000   \n",
      "max    105.000000    1917.000000  624.000000  806.000000   886.000000   \n",
      "\n",
      "       Supernatural    Thriller     Vampire        Yaoi        Yuri  \n",
      "count      6.000000    6.000000    6.000000    6.000000    6.000000  \n",
      "mean     768.000000   61.500000   83.833333   21.833333   20.666667  \n",
      "std      732.736788   56.535829   87.279818   50.089586   42.155269  \n",
      "min       45.000000    0.000000   11.000000    0.000000    0.000000  \n",
      "25%      257.500000   28.000000   20.500000    0.000000    0.000000  \n",
      "50%      621.000000   41.500000   58.000000    1.000000    2.000000  \n",
      "75%     1021.250000   95.500000  110.500000    4.250000   11.500000  \n",
      "max     2030.000000  149.000000  240.000000  124.000000  106.000000  \n",
      "\n",
      "[8 rows x 47 columns]\n",
      "[0.40219424 0.         0.02737993 0.52338625 0.27669744 1.        ]\n",
      "[0 1 2 3 4 5]\n"
     ]
    }
   ],
   "source": [
    "print(df.info())\n",
    "print(df.describe())\n",
    "print(df['rating'].unique())\n",
    "print(df['type'].unique())\n"
   ]
  },
  {
   "cell_type": "markdown",
   "id": "d5bf6f90",
   "metadata": {},
   "source": [
    "# 2. Feature Extraction\n"
   ]
  },
  {
   "cell_type": "markdown",
   "id": "22d2649b",
   "metadata": {},
   "source": [
    "Convert Categorical Features into Numerical Representations\n",
    "Genres: Convert the genre column into a one-hot encoded format or a binary matrix."
   ]
  },
  {
   "cell_type": "code",
   "execution_count": 81,
   "id": "4869be89",
   "metadata": {
    "collapsed": true
   },
   "outputs": [
    {
     "ename": "KeyError",
     "evalue": "'genre'",
     "output_type": "error",
     "traceback": [
      "\u001b[1;31m---------------------------------------------------------------------------\u001b[0m",
      "\u001b[1;31mKeyError\u001b[0m                                  Traceback (most recent call last)",
      "\u001b[1;32m~\\anaconda3\\lib\\site-packages\\pandas\\core\\indexes\\base.py\u001b[0m in \u001b[0;36mget_loc\u001b[1;34m(self, key, method, tolerance)\u001b[0m\n\u001b[0;32m   3628\u001b[0m             \u001b[1;32mtry\u001b[0m\u001b[1;33m:\u001b[0m\u001b[1;33m\u001b[0m\u001b[1;33m\u001b[0m\u001b[0m\n\u001b[1;32m-> 3629\u001b[1;33m                 \u001b[1;32mreturn\u001b[0m \u001b[0mself\u001b[0m\u001b[1;33m.\u001b[0m\u001b[0m_engine\u001b[0m\u001b[1;33m.\u001b[0m\u001b[0mget_loc\u001b[0m\u001b[1;33m(\u001b[0m\u001b[0mcasted_key\u001b[0m\u001b[1;33m)\u001b[0m\u001b[1;33m\u001b[0m\u001b[1;33m\u001b[0m\u001b[0m\n\u001b[0m\u001b[0;32m   3630\u001b[0m             \u001b[1;32mexcept\u001b[0m \u001b[0mKeyError\u001b[0m \u001b[1;32mas\u001b[0m \u001b[0merr\u001b[0m\u001b[1;33m:\u001b[0m\u001b[1;33m\u001b[0m\u001b[1;33m\u001b[0m\u001b[0m\n",
      "\u001b[1;32m~\\anaconda3\\lib\\site-packages\\pandas\\_libs\\index.pyx\u001b[0m in \u001b[0;36mpandas._libs.index.IndexEngine.get_loc\u001b[1;34m()\u001b[0m\n",
      "\u001b[1;32m~\\anaconda3\\lib\\site-packages\\pandas\\_libs\\index.pyx\u001b[0m in \u001b[0;36mpandas._libs.index.IndexEngine.get_loc\u001b[1;34m()\u001b[0m\n",
      "\u001b[1;32mpandas\\_libs\\hashtable_class_helper.pxi\u001b[0m in \u001b[0;36mpandas._libs.hashtable.PyObjectHashTable.get_item\u001b[1;34m()\u001b[0m\n",
      "\u001b[1;32mpandas\\_libs\\hashtable_class_helper.pxi\u001b[0m in \u001b[0;36mpandas._libs.hashtable.PyObjectHashTable.get_item\u001b[1;34m()\u001b[0m\n",
      "\u001b[1;31mKeyError\u001b[0m: 'genre'",
      "\nThe above exception was the direct cause of the following exception:\n",
      "\u001b[1;31mKeyError\u001b[0m                                  Traceback (most recent call last)",
      "\u001b[1;32m~\\AppData\\Local\\Temp\\ipykernel_24840\\473782713.py\u001b[0m in \u001b[0;36m<module>\u001b[1;34m\u001b[0m\n\u001b[1;32m----> 1\u001b[1;33m \u001b[0mdf\u001b[0m\u001b[1;33m[\u001b[0m\u001b[1;34m'genre'\u001b[0m\u001b[1;33m]\u001b[0m \u001b[1;33m=\u001b[0m \u001b[0mdf\u001b[0m\u001b[1;33m[\u001b[0m\u001b[1;34m'genre'\u001b[0m\u001b[1;33m]\u001b[0m\u001b[1;33m.\u001b[0m\u001b[0mstr\u001b[0m\u001b[1;33m.\u001b[0m\u001b[0msplit\u001b[0m\u001b[1;33m(\u001b[0m\u001b[1;34m','\u001b[0m\u001b[1;33m)\u001b[0m\u001b[1;33m.\u001b[0m\u001b[0mapply\u001b[0m\u001b[1;33m(\u001b[0m\u001b[1;32mlambda\u001b[0m \u001b[0mx\u001b[0m\u001b[1;33m:\u001b[0m \u001b[1;33m[\u001b[0m\u001b[0mgenre\u001b[0m\u001b[1;33m.\u001b[0m\u001b[0mstrip\u001b[0m\u001b[1;33m(\u001b[0m\u001b[1;33m)\u001b[0m \u001b[1;32mfor\u001b[0m \u001b[0mgenre\u001b[0m \u001b[1;32min\u001b[0m \u001b[0mx\u001b[0m\u001b[1;33m]\u001b[0m\u001b[1;33m)\u001b[0m\u001b[1;33m\u001b[0m\u001b[1;33m\u001b[0m\u001b[0m\n\u001b[0m\u001b[0;32m      2\u001b[0m \u001b[0mdf\u001b[0m \u001b[1;33m=\u001b[0m \u001b[0mdf\u001b[0m\u001b[1;33m.\u001b[0m\u001b[0mexplode\u001b[0m\u001b[1;33m(\u001b[0m\u001b[1;34m'genre'\u001b[0m\u001b[1;33m)\u001b[0m\u001b[1;33m\u001b[0m\u001b[1;33m\u001b[0m\u001b[0m\n\u001b[0;32m      3\u001b[0m \u001b[0mgenre_dummies\u001b[0m \u001b[1;33m=\u001b[0m \u001b[0mpd\u001b[0m\u001b[1;33m.\u001b[0m\u001b[0mget_dummies\u001b[0m\u001b[1;33m(\u001b[0m\u001b[0mdf\u001b[0m\u001b[1;33m[\u001b[0m\u001b[1;34m'genre'\u001b[0m\u001b[1;33m]\u001b[0m\u001b[1;33m)\u001b[0m\u001b[1;33m\u001b[0m\u001b[1;33m\u001b[0m\u001b[0m\n\u001b[0;32m      4\u001b[0m \u001b[0mdf\u001b[0m \u001b[1;33m=\u001b[0m \u001b[0mdf\u001b[0m\u001b[1;33m.\u001b[0m\u001b[0mjoin\u001b[0m\u001b[1;33m(\u001b[0m\u001b[0mgenre_dummies\u001b[0m\u001b[1;33m)\u001b[0m\u001b[1;33m.\u001b[0m\u001b[0mgroupby\u001b[0m\u001b[1;33m(\u001b[0m\u001b[1;33m[\u001b[0m\u001b[1;34m'name'\u001b[0m\u001b[1;33m]\u001b[0m\u001b[1;33m,\u001b[0m \u001b[0mas_index\u001b[0m\u001b[1;33m=\u001b[0m\u001b[1;32mFalse\u001b[0m\u001b[1;33m)\u001b[0m\u001b[1;33m.\u001b[0m\u001b[0msum\u001b[0m\u001b[1;33m(\u001b[0m\u001b[1;33m)\u001b[0m\u001b[1;33m\u001b[0m\u001b[1;33m\u001b[0m\u001b[0m\n",
      "\u001b[1;32m~\\anaconda3\\lib\\site-packages\\pandas\\core\\frame.py\u001b[0m in \u001b[0;36m__getitem__\u001b[1;34m(self, key)\u001b[0m\n\u001b[0;32m   3503\u001b[0m             \u001b[1;32mif\u001b[0m \u001b[0mself\u001b[0m\u001b[1;33m.\u001b[0m\u001b[0mcolumns\u001b[0m\u001b[1;33m.\u001b[0m\u001b[0mnlevels\u001b[0m \u001b[1;33m>\u001b[0m \u001b[1;36m1\u001b[0m\u001b[1;33m:\u001b[0m\u001b[1;33m\u001b[0m\u001b[1;33m\u001b[0m\u001b[0m\n\u001b[0;32m   3504\u001b[0m                 \u001b[1;32mreturn\u001b[0m \u001b[0mself\u001b[0m\u001b[1;33m.\u001b[0m\u001b[0m_getitem_multilevel\u001b[0m\u001b[1;33m(\u001b[0m\u001b[0mkey\u001b[0m\u001b[1;33m)\u001b[0m\u001b[1;33m\u001b[0m\u001b[1;33m\u001b[0m\u001b[0m\n\u001b[1;32m-> 3505\u001b[1;33m             \u001b[0mindexer\u001b[0m \u001b[1;33m=\u001b[0m \u001b[0mself\u001b[0m\u001b[1;33m.\u001b[0m\u001b[0mcolumns\u001b[0m\u001b[1;33m.\u001b[0m\u001b[0mget_loc\u001b[0m\u001b[1;33m(\u001b[0m\u001b[0mkey\u001b[0m\u001b[1;33m)\u001b[0m\u001b[1;33m\u001b[0m\u001b[1;33m\u001b[0m\u001b[0m\n\u001b[0m\u001b[0;32m   3506\u001b[0m             \u001b[1;32mif\u001b[0m \u001b[0mis_integer\u001b[0m\u001b[1;33m(\u001b[0m\u001b[0mindexer\u001b[0m\u001b[1;33m)\u001b[0m\u001b[1;33m:\u001b[0m\u001b[1;33m\u001b[0m\u001b[1;33m\u001b[0m\u001b[0m\n\u001b[0;32m   3507\u001b[0m                 \u001b[0mindexer\u001b[0m \u001b[1;33m=\u001b[0m \u001b[1;33m[\u001b[0m\u001b[0mindexer\u001b[0m\u001b[1;33m]\u001b[0m\u001b[1;33m\u001b[0m\u001b[1;33m\u001b[0m\u001b[0m\n",
      "\u001b[1;32m~\\anaconda3\\lib\\site-packages\\pandas\\core\\indexes\\base.py\u001b[0m in \u001b[0;36mget_loc\u001b[1;34m(self, key, method, tolerance)\u001b[0m\n\u001b[0;32m   3629\u001b[0m                 \u001b[1;32mreturn\u001b[0m \u001b[0mself\u001b[0m\u001b[1;33m.\u001b[0m\u001b[0m_engine\u001b[0m\u001b[1;33m.\u001b[0m\u001b[0mget_loc\u001b[0m\u001b[1;33m(\u001b[0m\u001b[0mcasted_key\u001b[0m\u001b[1;33m)\u001b[0m\u001b[1;33m\u001b[0m\u001b[1;33m\u001b[0m\u001b[0m\n\u001b[0;32m   3630\u001b[0m             \u001b[1;32mexcept\u001b[0m \u001b[0mKeyError\u001b[0m \u001b[1;32mas\u001b[0m \u001b[0merr\u001b[0m\u001b[1;33m:\u001b[0m\u001b[1;33m\u001b[0m\u001b[1;33m\u001b[0m\u001b[0m\n\u001b[1;32m-> 3631\u001b[1;33m                 \u001b[1;32mraise\u001b[0m \u001b[0mKeyError\u001b[0m\u001b[1;33m(\u001b[0m\u001b[0mkey\u001b[0m\u001b[1;33m)\u001b[0m \u001b[1;32mfrom\u001b[0m \u001b[0merr\u001b[0m\u001b[1;33m\u001b[0m\u001b[1;33m\u001b[0m\u001b[0m\n\u001b[0m\u001b[0;32m   3632\u001b[0m             \u001b[1;32mexcept\u001b[0m \u001b[0mTypeError\u001b[0m\u001b[1;33m:\u001b[0m\u001b[1;33m\u001b[0m\u001b[1;33m\u001b[0m\u001b[0m\n\u001b[0;32m   3633\u001b[0m                 \u001b[1;31m# If we have a listlike key, _check_indexing_error will raise\u001b[0m\u001b[1;33m\u001b[0m\u001b[1;33m\u001b[0m\u001b[0m\n",
      "\u001b[1;31mKeyError\u001b[0m: 'genre'"
     ]
    }
   ],
   "source": [
    "df['genre'] = df['genre'].str.split(',').apply(lambda x: [genre.strip() for genre in x])\n",
    "df = df.explode('genre')\n",
    "genre_dummies = pd.get_dummies(df['genre'])\n",
    "df = df.join(genre_dummies).groupby(['name'], as_index=False).sum()"
   ]
  },
  {
   "cell_type": "code",
   "execution_count": 50,
   "id": "d008a95e",
   "metadata": {},
   "outputs": [],
   "source": [
    "from sklearn.preprocessing import MinMaxScaler\n",
    "scaler = MinMaxScaler()\n",
    "df['rating'] = scaler.fit_transform(df[['rating']])"
   ]
  },
  {
   "cell_type": "markdown",
   "id": "b0619ad6",
   "metadata": {},
   "source": [
    "# 3. Recommendation System"
   ]
  },
  {
   "cell_type": "code",
   "execution_count": 53,
   "id": "79a5c8f7",
   "metadata": {
    "collapsed": true
   },
   "outputs": [
    {
     "name": "stdout",
     "output_type": "stream",
     "text": [
      "Index(['rating', 'anime_id', 'members', 'Action', 'Adventure', 'Cars',\n",
      "       'Comedy', 'Dementia', 'Demons', 'Drama', 'Ecchi', 'Fantasy', 'Game',\n",
      "       'Harem', 'Hentai', 'Historical', 'Horror', 'Josei', 'Kids', 'Magic',\n",
      "       'Martial Arts', 'Mecha', 'Military', 'Music', 'Mystery', 'Parody',\n",
      "       'Police', 'Psychological', 'Romance', 'Samurai', 'School', 'Sci-Fi',\n",
      "       'Seinen', 'Shoujo', 'Shoujo Ai', 'Shounen', 'Shounen Ai',\n",
      "       'Slice of Life', 'Space', 'Sports', 'Super Power', 'Supernatural',\n",
      "       'Thriller', 'Vampire', 'Yaoi', 'Yuri', '0', '1', '2', '3', '4', '5'],\n",
      "      dtype='object')\n"
     ]
    }
   ],
   "source": [
    "print(df.columns)"
   ]
  },
  {
   "cell_type": "code",
   "execution_count": 76,
   "id": "cf9541e6",
   "metadata": {},
   "outputs": [],
   "source": [
    "from sklearn.metrics.pairwise import cosine_similarity\n",
    "features = df.drop(columns=['Action']) \n",
    "similarity_matrix = cosine_similarity(features)\n",
    "similarity_df = pd.DataFrame(similarity_matrix, index=df['Action'], columns=df['Action'])"
   ]
  },
  {
   "cell_type": "code",
   "execution_count": 77,
   "id": "128ff5d7",
   "metadata": {},
   "outputs": [
    {
     "name": "stdout",
     "output_type": "stream",
     "text": [
      "Anime 'OnePunchMan' not found in the dataset.\n"
     ]
    }
   ],
   "source": [
    "def recommend_anime(target_anime, similarity_df, top_n=5):\n",
    "    if target_anime not in similarity_df.index:\n",
    "        return f\"Anime '{target_anime}' not found in the dataset.\"\n",
    "    sim_scores = similarity_df[target_anime]\n",
    "    similar_animes = sim_scores.sort_values(ascending=False).head(top_n + 1)\n",
    "    similar_animes = similar_animes[similar_animes.index != target_anime]\n",
    "    return similar_animes\n",
    "print(recommend_anime('One Punch Man', similarity_df, top_n=5))\n"
   ]
  },
  {
   "cell_type": "markdown",
   "id": "31d2e378",
   "metadata": {},
   "source": [
    "# 4. Evaluation"
   ]
  },
  {
   "cell_type": "code",
   "execution_count": 78,
   "id": "baf649da",
   "metadata": {},
   "outputs": [],
   "source": [
    "from sklearn.model_selection import train_test_split\n",
    "train_df, test_df = train_test_split(df, test_size=0.2, random_state=42)\n",
    "train_features = train_df.drop(columns=['Action'])\n",
    "train_similarity_matrix = cosine_similarity(train_features)\n",
    "train_similarity_df = pd.DataFrame(train_similarity_matrix, index=train_df['Action'], columns=train_df['Action'])\n"
   ]
  },
  {
   "cell_type": "code",
   "execution_count": 80,
   "id": "0199c427",
   "metadata": {},
   "outputs": [
    {
     "name": "stdout",
     "output_type": "stream",
     "text": [
      "[\"Anime '59.0' not found in the dataset.\"]\n"
     ]
    }
   ],
   "source": [
    "def evaluate_recommendations(test_df, similarity_df, top_n=5):\n",
    "    results = []\n",
    "    for target_anime in test_df['Action']:\n",
    "        recommendations = recommend_anime(target_anime, similarity_df, top_n)\n",
    "        results.append(recommendations)\n",
    "        return results\n",
    "print(evaluate_recommendations(test_df, train_similarity_df, top_n=5))\n"
   ]
  },
  {
   "cell_type": "markdown",
   "id": "008f54a9",
   "metadata": {},
   "source": [
    "# 5. Analyze "
   ]
  },
  {
   "cell_type": "markdown",
   "id": "aad2c4c9",
   "metadata": {},
   "source": [
    "Analyze Performance:\n",
    "    Evaluate the quality of recommendations by manually inspecting the results or using feedback from actual users if available"
   ]
  }
 ],
 "metadata": {
  "kernelspec": {
   "display_name": "Python 3 (ipykernel)",
   "language": "python",
   "name": "python3"
  },
  "language_info": {
   "codemirror_mode": {
    "name": "ipython",
    "version": 3
   },
   "file_extension": ".py",
   "mimetype": "text/x-python",
   "name": "python",
   "nbconvert_exporter": "python",
   "pygments_lexer": "ipython3",
   "version": "3.9.13"
  }
 },
 "nbformat": 4,
 "nbformat_minor": 5
}
